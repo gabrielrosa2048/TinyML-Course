{
  "cells": [
    {
      "cell_type": "markdown",
      "metadata": {
        "id": "view-in-github",
        "colab_type": "text"
      },
      "source": [
        "<a href=\"https://colab.research.google.com/github/gabrielrosa2048/TinyML-Course/blob/main/1_python_Intro.ipynb\" target=\"_parent\"><img src=\"https://colab.research.google.com/assets/colab-badge.svg\" alt=\"Open In Colab\"/></a>"
      ]
    },
    {
      "cell_type": "markdown",
      "metadata": {
        "id": "YwZiA-T32yVc"
      },
      "source": [
        "# Exercises"
      ]
    },
    {
      "cell_type": "markdown",
      "metadata": {
        "id": "18rFTYQV2yVc"
      },
      "source": [
        "Welcome to your first set of Python coding problems!\n",
        "\n",
        "If this is your first time using Jupyter Notebooks, welcome!\n",
        "\n",
        "Notebooks are composed of blocks (called \"cells\") of text and code. Each of these is editable, though you'll mainly be editing the code cells to answer some questions.\n",
        "\n",
        "To get started, try running the code cell below (by pressing the `[Run]` button (above at Toolbar), or clicking on the cell and pressing `[ctrl+enter]` on your keyboard)."
      ]
    },
    {
      "cell_type": "code",
      "execution_count": 1,
      "metadata": {
        "id": "UcDmvGqM2yVc",
        "colab": {
          "base_uri": "https://localhost:8080/"
        },
        "outputId": "8382cd7e-d117-4a1c-eb48-862fc2bef7da"
      },
      "outputs": [
        {
          "output_type": "stream",
          "name": "stdout",
          "text": [
            "You've successfully run some Python code\n",
            "Congratulations!\n"
          ]
        }
      ],
      "source": [
        "print(\"You've successfully run some Python code\")\n",
        "print(\"Congratulations!\")"
      ]
    },
    {
      "cell_type": "markdown",
      "metadata": {
        "id": "Jr_nkSge2yVc"
      },
      "source": [
        "Try adding another line of code in the cell above and re-running it.\n",
        "\n",
        "Now let's get a little fancier: Add a new code cell by clicking on an existing code cell, hitting the escape key, and then hitting the a or b key. The a key will add a cell above the current cell, and b adds a cell below. Alternativelly, you can use the `[+]` button at toolbar and/or using the arrows keys to move the cell)"
      ]
    },
    {
      "cell_type": "markdown",
      "metadata": {
        "id": "oOmxBmmt2yVc"
      },
      "source": [
        "Great! Now you know how to use Notebooks."
      ]
    },
    {
      "cell_type": "markdown",
      "metadata": {
        "ExecuteTime": {
          "end_time": "2021-04-08T20:52:33.197134Z",
          "start_time": "2021-04-08T20:52:33.178724Z"
        },
        "id": "06z1EpcD2yVc"
      },
      "source": [
        "<hr/>\n",
        "\n",
        "## 1. \n",
        "Complete the code below. In case it's helpful, here is the table of available arithmetic operations:\n",
        "\n",
        "\n",
        "\n",
        "| Operator     | Name           | Description                                            |\n",
        "|--------------|----------------|--------------------------------------------------------|\n",
        "| ``a + b``    | Addition       | Sum of ``a`` and ``b``                                 |\n",
        "| ``a - b``    | Subtraction    | Difference of ``a`` and ``b``                          |\n",
        "| ``a * b``    | Multiplication | Product of ``a`` and ``b``                             |\n",
        "| ``a / b``    | True division  | Quotient of ``a`` and ``b``                            |\n",
        "| ``a // b``   | Floor division | Quotient of ``a`` and ``b``, removing fractional parts |\n",
        "| ``a % b``    | Modulus        | Integer remainder after division of ``a`` by ``b``     |\n",
        "| ``a ** b``   | Exponentiation | ``a`` raised to the power of ``b``                     |\n",
        "| ``-a``       | Negation       | The negative of ``a``                                  |\n",
        "\n",
        "<span style=\"display:none\"></span>\n",
        "\n"
      ]
    },
    {
      "cell_type": "code",
      "execution_count": 7,
      "metadata": {
        "ExecuteTime": {
          "end_time": "2021-04-08T20:59:34.034333Z",
          "start_time": "2021-04-08T20:59:34.023310Z"
        },
        "id": "7QyuJqD12yVd",
        "colab": {
          "base_uri": "https://localhost:8080/"
        },
        "outputId": "13bc8809-3677-4679-c4ea-fa407e519c00"
      },
      "outputs": [
        {
          "output_type": "stream",
          "name": "stdout",
          "text": [
            "The area of a circle with radius 1.5 is 7.0685775\n"
          ]
        }
      ],
      "source": [
        "pi = 3.14159 # approximate\n",
        "diameter = 3\n",
        "\n",
        "# Create a variable called 'radius' equal to half the diameter\n",
        "radius = 3 / 2\n",
        "\n",
        "# Create a variable called 'area', using the formula for the area of a circle: pi times the radius squared\n",
        "area = pi * radius ** 2\n",
        "\n",
        "print(\"The area of a circle with radius {} is {}\".format(radius, area))"
      ]
    },
    {
      "cell_type": "markdown",
      "metadata": {
        "id": "juYKOn0Y2yVd"
      },
      "source": [
        "## 2.\n",
        "Add code to the following cell to swap and print the variables a and b (so that a refers to the object previously referred to by b and vice versa)."
      ]
    },
    {
      "cell_type": "code",
      "execution_count": 9,
      "metadata": {
        "id": "6E3EhHDH2yVd",
        "colab": {
          "base_uri": "https://localhost:8080/"
        },
        "outputId": "4ee7b382-5915-4dcc-a43b-49e8d434a6ac"
      },
      "outputs": [
        {
          "output_type": "stream",
          "name": "stdout",
          "text": [
            "Vetor A: [3, 2, 1]\n",
            "Vetor B: [1, 2, 3]\n"
          ]
        }
      ],
      "source": [
        "a = [1, 2, 3]\n",
        "b = [3, 2, 1]\n",
        "\n",
        "[a, b] = [b, a]\n",
        "\n",
        "print(\"Vetor A: {}\".format(a))\n",
        "print(\"Vetor B: {}\".format(b))"
      ]
    },
    {
      "cell_type": "markdown",
      "metadata": {
        "id": "4Jv4l2rY2yVd"
      },
      "source": [
        "## 3.\n",
        "a) Add parentheses to the following expression so that it evaluates to 1."
      ]
    },
    {
      "cell_type": "code",
      "execution_count": 11,
      "metadata": {
        "ExecuteTime": {
          "end_time": "2021-04-08T21:05:17.004831Z",
          "start_time": "2021-04-08T21:05:16.994520Z"
        },
        "id": "muY-NXG82yVd",
        "colab": {
          "base_uri": "https://localhost:8080/"
        },
        "outputId": "98026a1e-c734-4cdd-ada7-bf5fbf3b9713"
      },
      "outputs": [
        {
          "output_type": "execute_result",
          "data": {
            "text/plain": [
              "1"
            ]
          },
          "metadata": {},
          "execution_count": 11
        }
      ],
      "source": [
        "(5 - 3) // 2"
      ]
    },
    {
      "cell_type": "markdown",
      "metadata": {
        "id": "iT7XUUpk2yVe"
      },
      "source": [
        "*Questions*, like this one, marked a spicy pepper are a bit harder.\n",
        "\n",
        "b) 🌶️ Add parentheses to the following expression so that it evaluates to 0"
      ]
    },
    {
      "cell_type": "code",
      "execution_count": 17,
      "metadata": {
        "id": "_pY3R8lS2yVe",
        "colab": {
          "base_uri": "https://localhost:8080/"
        },
        "outputId": "6f3a625d-a392-4f75-fd70-d16debfeae48"
      },
      "outputs": [
        {
          "output_type": "execute_result",
          "data": {
            "text/plain": [
              "0"
            ]
          },
          "metadata": {},
          "execution_count": 17
        }
      ],
      "source": [
        "8 - 3 * 2 - (1 + 1)"
      ]
    },
    {
      "cell_type": "markdown",
      "metadata": {
        "id": "0UnP_Nvw2yVe"
      },
      "source": [
        "## 4. \n",
        "Alice, Bob and Carol have agreed to pool their Halloween candy and split it evenly among themselves. For the sake of their friendship, any candies left over will be smashed. For example, if they collectively bring home 91 candies, they'll take 30 each and smash 1.\n",
        "Write an arithmetic expression below to calculate how many candies they must smash for a given haul."
      ]
    },
    {
      "cell_type": "code",
      "execution_count": 20,
      "metadata": {
        "ExecuteTime": {
          "end_time": "2021-04-08T21:10:28.111215Z",
          "start_time": "2021-04-08T21:10:28.108122Z"
        },
        "id": "8DWhvb4i2yVe",
        "colab": {
          "base_uri": "https://localhost:8080/"
        },
        "outputId": "b86249bd-1f96-4312-b3db-43eaf211b2f5"
      },
      "outputs": [
        {
          "output_type": "stream",
          "name": "stdout",
          "text": [
            "Doces a serem esmagados: 1\n"
          ]
        }
      ],
      "source": [
        "# Variables representing the number of candies collected by alice, bob, and carol\n",
        "alice_candies = 121\n",
        "bob_candies = 77\n",
        "carol_candies = 109\n",
        "\n",
        "# Your code goes here! Replace the right-hand side of this assignment with an expression\n",
        "# involving alice_candies, bob_candies, and carol_candies\n",
        "to_smash =  (alice_candies + bob_candies + carol_candies) % 3\n",
        "\n",
        "print(\"Doces a serem esmagados: {}\".format(to_smash))"
      ]
    }
  ],
  "metadata": {
    "hide_input": false,
    "kernelspec": {
      "display_name": "Tf2_Py37",
      "language": "python",
      "name": "tf2_py37"
    },
    "language_info": {
      "codemirror_mode": {
        "name": "ipython",
        "version": 3
      },
      "file_extension": ".py",
      "mimetype": "text/x-python",
      "name": "python",
      "nbconvert_exporter": "python",
      "pygments_lexer": "ipython3",
      "version": "3.7.7"
    },
    "nbTranslate": {
      "displayLangs": [
        "*"
      ],
      "hotkey": "alt-t",
      "langInMainMenu": true,
      "sourceLang": "en",
      "targetLang": "fr",
      "useGoogleTranslate": true
    },
    "toc": {
      "base_numbering": 1,
      "nav_menu": {},
      "number_sections": true,
      "sideBar": true,
      "skip_h1_title": true,
      "title_cell": "Table of Contents",
      "title_sidebar": "Contents",
      "toc_cell": false,
      "toc_position": {
        "height": "calc(100% - 180px)",
        "left": "10px",
        "top": "150px",
        "width": "165px"
      },
      "toc_section_display": true,
      "toc_window_display": true
    },
    "varInspector": {
      "cols": {
        "lenName": 16,
        "lenType": 16,
        "lenVar": 40
      },
      "kernels_config": {
        "python": {
          "delete_cmd_postfix": "",
          "delete_cmd_prefix": "del ",
          "library": "var_list.py",
          "varRefreshCmd": "print(var_dic_list())"
        },
        "r": {
          "delete_cmd_postfix": ") ",
          "delete_cmd_prefix": "rm(",
          "library": "var_list.r",
          "varRefreshCmd": "cat(var_dic_list()) "
        }
      },
      "types_to_exclude": [
        "module",
        "function",
        "builtin_function_or_method",
        "instance",
        "_Feature"
      ],
      "window_display": false
    },
    "colab": {
      "provenance": [],
      "include_colab_link": true
    }
  },
  "nbformat": 4,
  "nbformat_minor": 0
}